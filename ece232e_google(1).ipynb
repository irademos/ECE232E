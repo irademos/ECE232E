{
  "nbformat": 4,
  "nbformat_minor": 0,
  "metadata": {
    "colab": {
      "name": "ece232e_google.ipynb",
      "provenance": []
    },
    "kernelspec": {
      "name": "ir",
      "display_name": "R"
    },
    "language_info": {
      "name": "R"
    }
  },
  "cells": [
    {
      "cell_type": "code",
      "source": [
        "if (!require(\"igraph\")) install.packages(\"igraph\")\n",
        "library (\"igraph\")"
      ],
      "metadata": {
        "colab": {
          "base_uri": "https://localhost:8080/"
        },
        "id": "Q2hGZDlHq29h",
        "outputId": "ba24cc0f-2214-4acd-a538-9ffb41aca6f9"
      },
      "execution_count": 9,
      "outputs": [
        {
          "output_type": "stream",
          "name": "stderr",
          "text": [
            "Loading required package: igraph\n",
            "\n",
            "Warning message in library(package, lib.loc = lib.loc, character.only = TRUE, logical.return = TRUE, :\n",
            "“there is no package called ‘igraph’”\n",
            "Installing package into ‘/usr/local/lib/R/site-library’\n",
            "(as ‘lib’ is unspecified)\n",
            "\n",
            "\n",
            "Attaching package: ‘igraph’\n",
            "\n",
            "\n",
            "The following object is masked from ‘package:R.oo’:\n",
            "\n",
            "    hierarchy\n",
            "\n",
            "\n",
            "The following objects are masked from ‘package:stats’:\n",
            "\n",
            "    decompose, spectrum\n",
            "\n",
            "\n",
            "The following object is masked from ‘package:base’:\n",
            "\n",
            "    union\n",
            "\n",
            "\n"
          ]
        }
      ]
    },
    {
      "cell_type": "code",
      "source": [
        "install.packages(\"googledrive\")\n",
        "library(\"googledrive\")\n",
        "install.packages(\"httpuv\") \n",
        "library(\"httpuv\")"
      ],
      "metadata": {
        "colab": {
          "base_uri": "https://localhost:8080/"
        },
        "id": "ZOWt2AMUs2F_",
        "outputId": "694c9508-edb5-4cad-a455-d492b6f4ffdc"
      },
      "execution_count": 1,
      "outputs": [
        {
          "output_type": "stream",
          "name": "stderr",
          "text": [
            "Installing package into ‘/usr/local/lib/R/site-library’\n",
            "(as ‘lib’ is unspecified)\n",
            "\n",
            "Installing package into ‘/usr/local/lib/R/site-library’\n",
            "(as ‘lib’ is unspecified)\n",
            "\n",
            "also installing the dependencies ‘Rcpp’, ‘promises’, ‘later’\n",
            "\n",
            "\n"
          ]
        }
      ]
    },
    {
      "cell_type": "code",
      "source": [
        "if (file.exists(\"/usr/local/lib/python3.7/dist-packages/google/colab/_ipython.py\")) {\n",
        "  install.packages(\"R.utils\")\n",
        "  library(\"R.utils\")\n",
        "  library(\"httr\")\n",
        "  my_check <- function() {return(TRUE)}\n",
        "  reassignInPackage(\"is_interactive\", pkgName = \"httr\", my_check) \n",
        "  options(rlang_interactive=TRUE)\n",
        "}"
      ],
      "metadata": {
        "colab": {
          "base_uri": "https://localhost:8080/"
        },
        "id": "AXQ1jxpJt5Hf",
        "outputId": "6384b139-0e61-4047-9e0b-c5fe913b0277"
      },
      "execution_count": 2,
      "outputs": [
        {
          "output_type": "stream",
          "name": "stderr",
          "text": [
            "Installing package into ‘/usr/local/lib/R/site-library’\n",
            "(as ‘lib’ is unspecified)\n",
            "\n",
            "also installing the dependencies ‘R.oo’, ‘R.methodsS3’\n",
            "\n",
            "\n",
            "Loading required package: R.oo\n",
            "\n",
            "Loading required package: R.methodsS3\n",
            "\n",
            "R.methodsS3 v1.8.1 (2020-08-26 16:20:06 UTC) successfully loaded. See ?R.methodsS3 for help.\n",
            "\n",
            "R.oo v1.24.0 (2020-08-26 16:11:58 UTC) successfully loaded. See ?R.oo for help.\n",
            "\n",
            "\n",
            "Attaching package: ‘R.oo’\n",
            "\n",
            "\n",
            "The following object is masked from ‘package:R.methodsS3’:\n",
            "\n",
            "    throw\n",
            "\n",
            "\n",
            "The following objects are masked from ‘package:methods’:\n",
            "\n",
            "    getClasses, getMethods\n",
            "\n",
            "\n",
            "The following objects are masked from ‘package:base’:\n",
            "\n",
            "    attach, detach, load, save\n",
            "\n",
            "\n",
            "R.utils v2.11.0 (2021-09-26 08:30:02 UTC) successfully loaded. See ?R.utils for help.\n",
            "\n",
            "\n",
            "Attaching package: ‘R.utils’\n",
            "\n",
            "\n",
            "The following object is masked from ‘package:utils’:\n",
            "\n",
            "    timestamp\n",
            "\n",
            "\n",
            "The following objects are masked from ‘package:base’:\n",
            "\n",
            "    cat, commandArgs, getOption, inherits, isOpen, nullfile, parse,\n",
            "    warnings\n",
            "\n",
            "\n"
          ]
        }
      ]
    },
    {
      "cell_type": "code",
      "source": [
        "# authorize google drive\n",
        "drive_auth(\n",
        "  email = gargle::gargle_oauth_email(),\n",
        "  path = NULL,\n",
        "  scopes = \"https://www.googleapis.com/auth/drive\",\n",
        "  cache = gargle::gargle_oauth_cache(),\n",
        "  use_oob = gargle::gargle_oob_default(),\n",
        "  token = NULL\n",
        ")"
      ],
      "metadata": {
        "colab": {
          "base_uri": "https://localhost:8080/",
          "height": 460
        },
        "id": "NoZZi-0DtrPT",
        "outputId": "ccf89eed-f56d-4ff4-9b20-cb507beb33d6"
      },
      "execution_count": 3,
      "outputs": [
        {
          "output_type": "stream",
          "name": "stderr",
          "text": [
            "Is it OK to cache OAuth access credentials in the folder \u001b[34m~/.cache/gargle\u001b[39m\n",
            "between R sessions?\n",
            "\n"
          ]
        },
        {
          "output_type": "error",
          "ename": "ERROR",
          "evalue": "ignored",
          "traceback": [
            "\u001b[1m\u001b[33mError\u001b[39m in \u001b[1m\u001b[1m`drive_auth()`:\u001b[22m\n\u001b[1m\u001b[22m\u001b[33m!\u001b[39m Can't get Google credentials\n\u001b[36mℹ\u001b[39m Are you running googledrive in a non-interactive session? Consider:\n\u001b[36m•\u001b[39m `drive_deauth()` to prevent the attempt to get credentials\n\u001b[36m•\u001b[39m Call `drive_auth()` directly with all necessary specifics\n\u001b[36mℹ\u001b[39m See gargle's \"Non-interactive auth\" vignette for more details:\n\u001b[36mℹ\u001b[39m \u001b[3m\u001b[34m<https://gargle.r-lib.org/articles/non-interactive-auth.html>\u001b[39m\u001b[23m\nTraceback:\n",
            "1. drive_auth(email = gargle::gargle_oauth_email(), path = NULL, \n .     scopes = \"https://www.googleapis.com/auth/drive\", cache = gargle::gargle_oauth_cache(), \n .     use_oob = gargle::gargle_oob_default(), token = NULL)",
            "2. drive_abort(c(\"Can't get Google credentials\", i = \"Are you running googledrive in a non-interactive session? \\\\\\n             Consider:\", \n .     `*` = \"{.fun drive_deauth} to prevent the attempt to get credentials\", \n .     `*` = \"Call {.fun drive_auth} directly with all necessary specifics\", \n .     i = \"See gargle's \\\"Non-interactive auth\\\" vignette for more details:\", \n .     i = \"{.url https://gargle.r-lib.org/articles/non-interactive-auth.html}\"))",
            "3. cli::cli_abort(message = message, ..., .envir = .envir)",
            "4. rlang::abort(message, ..., call = call, use_cli_format = TRUE)",
            "5. signal_abort(cnd, .file)"
          ]
        }
      ]
    },
    {
      "cell_type": "code",
      "source": [
        "drive_auth(use_oob = TRUE, cache = TRUE)"
      ],
      "metadata": {
        "id": "pkRPrq-Qt9tA"
      },
      "execution_count": null,
      "outputs": []
    },
    {
      "cell_type": "code",
      "source": [
        "zip_file <- drive_get(\"gplus.tar.gz\")"
      ],
      "metadata": {
        "colab": {
          "base_uri": "https://localhost:8080/"
        },
        "id": "QUSxQBYX65ti",
        "outputId": "073f5e06-d08e-4157-a917-aad5f7f56aa5"
      },
      "execution_count": 5,
      "outputs": [
        {
          "output_type": "stream",
          "name": "stderr",
          "text": [
            "\n",
            "\n",
            "\u001b[32m✔\u001b[39m The input `path` resolved to exactly 1 file.\n",
            "\n"
          ]
        }
      ]
    },
    {
      "cell_type": "code",
      "source": [
        "drive_download(zip_file,overwrite = 1)"
      ],
      "metadata": {
        "colab": {
          "base_uri": "https://localhost:8080/"
        },
        "id": "C91Y-D0n7_2g",
        "outputId": "2559f268-0f31-426e-bf87-f9977170d8bc"
      },
      "execution_count": 6,
      "outputs": [
        {
          "output_type": "stream",
          "name": "stderr",
          "text": [
            "File downloaded:\n",
            "\n",
            "\u001b[36m•\u001b[39m \u001b[36mgplus.tar.gz\u001b[39m \u001b[90m<id: 1R2UNtDUFn1ZBpOl9H4xsdpBYBsz2OUh9>\u001b[39m\n",
            "\n",
            "Saved locally as:\n",
            "\n",
            "\u001b[36m•\u001b[39m \u001b[34mgplus.tar.gz\u001b[39m\n",
            "\n"
          ]
        }
      ]
    },
    {
      "cell_type": "code",
      "source": [
        "untar('gplus.tar.gz')"
      ],
      "metadata": {
        "id": "YqDANQ0h8Qex"
      },
      "execution_count": 7,
      "outputs": []
    },
    {
      "cell_type": "code",
      "execution_count": 32,
      "metadata": {
        "id": "sTbP0FR1i6Bu"
      },
      "outputs": [],
      "source": [
        "file_path =\"gplus/\" \n",
        "edge_files = list.files(path=file_path,pattern=\"edges\") \n",
        "circles_files = list.files(path=file_path,pattern=\"circles\")\n",
        "fts_files = list.files(path=file_path,pattern=\"feat\")\n",
        "initial_graph = list()\n",
        "final_graph = list()\n",
        "graph_circles = list()\n",
        "ego_nodes = list()"
      ]
    },
    {
      "cell_type": "code",
      "source": [
        "cnt = 0\n",
        "node_names = c()\n",
        "for(i in 1:length(edge_files)){\n",
        "    # get node id\n",
        "    node = strsplit(edge_files[i],\".edges\")[[1]]\n",
        "    node_names <-c(node_names,node)\n",
        "    #print(node)\n",
        "    ego_nodes[i] = node\n",
        "    fc = file(paste(file_path,node,\".circles\",sep=\"\"),open=\"r\") \n",
        "    if(length(fc)>0){\n",
        "        file_lines <- readLines(fc)\n",
        "        if(length(file_lines)>0){\n",
        "            circles =list()\n",
        "            for(j in 1:length(file_lines)){\n",
        "                circle_users = strsplit(file_lines[j],\"\\t\")\n",
        "                circles[[j]] <- circle_users[[1]][-1]\n",
        "              }\n",
        "            # find users who have more than 2 circles\n",
        "            if(length(circles)>2){\n",
        "                cnt = cnt + 1\n",
        "                initial_graph[[i]] <- read.graph(paste(file_path,edge_files[i],sep=\"\"),format=\"ncol\",directed=TRUE)\n",
        "                graph_circles[[i]] <- circles\n",
        "                graph_nodes <- V(initial_graph[[i]])\n",
        "                print(length(graph_nodes))\n",
        "                print(node)\n",
        "                # add the core node to his neighbor list and construct the graph\n",
        "                final_graph[[i]] <- add.vertices(initial_graph[[i]],1,name=node)\n",
        "                core_index = which(V(final_graph[[i]])$name==node) \n",
        "                core_node_edges = list()\n",
        "                ### add edges connecting to this core node\n",
        "                for(k in 1:length(graph_nodes)){\n",
        "                    core_node_edges = c(core_node_edges, c(core_index, k))\n",
        "                }\n",
        "                final_graph[[i]] <- add.edges(final_graph[[i]],core_node_edges)\n",
        "            } \n",
        "        }\n",
        "    }\n",
        "    close(fc)\n",
        "}"
      ],
      "metadata": {
        "id": "dWep04C-jDp9",
        "colab": {
          "base_uri": "https://localhost:8080/"
        },
        "outputId": "ed1715d3-19f0-464f-ae45-d1a5377ac750"
      },
      "execution_count": 42,
      "outputs": [
        {
          "output_type": "stream",
          "name": "stdout",
          "text": [
            "[1] 1187\n",
            "[1] \"100535338638690515335\"\n",
            "[1] 559\n",
            "[1] \"100962871525684315897\"\n",
            "[1] 2614\n",
            "[1] \"101130571432010257170\"\n",
            "[1] 1052\n",
            "[1] \"101185748996927059931\"\n",
            "[1] 2455\n",
            "[1] \"101263615503715477581\"\n",
            "[1] 3814\n",
            "[1] \"101373961279443806744\"\n",
            "[1] 488\n",
            "[1] \"101541879642294398860\"\n",
            "[1] 4712\n",
            "[1] \"101626577406833098387\"\n",
            "[1] 2224\n",
            "[1] \"102170431816592344972\"\n",
            "[1] 102\n",
            "[1] \"102615863344410467759\"\n",
            "[1] 1371\n",
            "[1] \"102778563580121606331\"\n",
            "[1] 2332\n",
            "[1] \"103236949470535942612\"\n",
            "[1] 2009\n",
            "[1] \"103892332449873403244\"\n",
            "[1] 452\n",
            "[1] \"104105354262797387583\"\n",
            "[1] 3091\n",
            "[1] \"104607825525972194062\"\n",
            "[1] 475\n",
            "[1] \"104672614700283598130\"\n",
            "[1] 1730\n",
            "[1] \"104987932455782713675\"\n",
            "[1] 4289\n",
            "[1] \"106186407539128840569\"\n",
            "[1] 4842\n",
            "[1] \"106228758905254036967\"\n",
            "[1] 4903\n",
            "[1] \"106382433884876652170\"\n",
            "[1] 1083\n",
            "[1] \"106837574755355833243\"\n",
            "[1] 4369\n",
            "[1] \"107040353898400532534\"\n",
            "[1] 2156\n",
            "[1] \"107203023379915799071\"\n",
            "[1] 2512\n",
            "[1] \"107223200089245371832\"\n",
            "[1] 562\n",
            "[1] \"107459220492917008623\"\n",
            "[1] 4362\n",
            "[1] \"107489144252174167638\"\n",
            "[1] 1743\n",
            "[1] \"108883879052307976051\"\n",
            "[1] 773\n",
            "[1] \"109327480479767108490\"\n",
            "[1] 4720\n",
            "[1] \"109596373340495798827\"\n",
            "[1] 1889\n",
            "[1] \"110538600381916983600\"\n",
            "[1] 338\n",
            "[1] \"110614416163543421878\"\n",
            "[1] 1556\n",
            "[1] \"110701307803962595019\"\n",
            "[1] 97\n",
            "[1] \"110809308822849680310\"\n",
            "[1] 1548\n",
            "[1] \"110971010308065250763\"\n",
            "[1] 4160\n",
            "[1] \"111048918866742956374\"\n",
            "[1] 4938\n",
            "[1] \"111091089527727420853\"\n",
            "[1] 498\n",
            "[1] \"112317819390625199896\"\n",
            "[1] 851\n",
            "[1] \"112724573277710080670\"\n",
            "[1] 1662\n",
            "[1] \"113112256846010263985\"\n",
            "[1] 1604\n",
            "[1] \"113356364521839061717\"\n",
            "[1] 769\n",
            "[1] \"113881433443048137993\"\n",
            "[1] 4229\n",
            "[1] \"114147483140782280818\"\n",
            "[1] 1374\n",
            "[1] \"115121555137256496805\"\n",
            "[1] 511\n",
            "[1] \"115360471097759949621\"\n",
            "[1] 3490\n",
            "[1] \"115455024457484679647\"\n",
            "[1] 923\n",
            "[1] \"115625564993990145546\"\n",
            "[1] 1175\n",
            "[1] \"116247667398036716276\"\n",
            "[1] 1243\n",
            "[1] \"116315897040732668413\"\n",
            "[1] 4872\n",
            "[1] \"116807883656585676940\"\n",
            "[1] 4604\n",
            "[1] \"116825083494890429556\"\n",
            "[1] 4831\n",
            "[1] \"116931379084245069738\"\n",
            "[1] 252\n",
            "[1] \"117412175333096244275\"\n",
            "[1] 307\n",
            "[1] \"117503822947457399073\"\n",
            "[1] 1473\n",
            "[1] \"117668392750579292609\"\n",
            "[1] 4805\n",
            "[1] \"117734260411963901771\"\n",
            "[1] 2426\n",
            "[1] \"118107045405823607895\"\n",
            "[1] 694\n",
            "[1] \"118379821279745746467\"\n"
          ]
        }
      ]
    },
    {
      "cell_type": "code",
      "source": [
        "#q18\n",
        "cat(\"there are \", length(edge_files),\"nodes and there are \",cnt,\"personal networks\" )"
      ],
      "metadata": {
        "id": "4TXUnjNLjGDV",
        "colab": {
          "base_uri": "https://localhost:8080/"
        },
        "outputId": "39bfff45-0433-4997-d37f-cac2185f2eda"
      },
      "execution_count": 43,
      "outputs": [
        {
          "output_type": "stream",
          "name": "stdout",
          "text": [
            "there are  132 nodes and there are  57 personal networks"
          ]
        }
      ]
    },
    {
      "cell_type": "code",
      "source": [
        "#q19 \n",
        "interest_node = c('109327480479767108490', '115625564993990145546','101373961279443806744')\n",
        "graph_inds = c()\n",
        "for (i in 1: length(interest_node)){\n",
        "    graph_ind <- which(node_names==interest_node[i])\n",
        "    graph_inds <- c(graph_inds, graph_ind)\n",
        "    print(graph_ind)\n",
        "    tmp_graph = final_graph[[graph_ind]]\n",
        "    hist(degree(tmp_graph, mode=\"in\"),main = paste(\"in degree for \", interest_node[i]))\n",
        "    hist(degree(tmp_graph, mode=\"out\"),main = paste(\"out degree for \", interest_node[i]))\n",
        "}\n"
      ],
      "metadata": {
        "id": "xXqXauYxjSYW",
        "colab": {
          "base_uri": "https://localhost:8080/",
          "height": 1000
        },
        "outputId": "9a184bcc-54b7-4445-bd88-1d09a692da2c"
      },
      "execution_count": 45,
      "outputs": [
        {
          "output_type": "stream",
          "name": "stdout",
          "text": [
            "[1] 69\n"
          ]
        },
        {
          "output_type": "display_data",
          "data": {
            "text/plain": [
              "Plot with title “in degree for  109327480479767108490”"
            ],
            "image/png": "[encoded data removed]"
          },
          "metadata": {
            "image/png": {
              "width": 420,
              "height": 420
            }
          }
        },
        {
          "output_type": "stream",
          "name": "stdout",
          "text": [
            "[1] 115\n"
          ]
        },
        {
          "output_type": "display_data",
          "data": {
            "text/plain": [
              "Plot with title “out degree for  109327480479767108490”"
            ],
            "image/png": "[encoded data removed]"
          },
          "metadata": {
            "image/png": {
              "width": 420,
              "height": 420
            }
          }
        },
        {
          "output_type": "display_data",
          "data": {
            "text/plain": [
              "Plot with title “in degree for  115625564993990145546”"
            ],
            "image/png": "[encoded data removed]"
          },
          "metadata": {
            "image/png": {
              "width": 420,
              "height": 420
            }
          }
        },
        {
          "output_type": "stream",
          "name": "stdout",
          "text": [
            "[1] 17\n"
          ]
        },
        {
          "output_type": "display_data",
          "data": {
            "text/plain": [
              "Plot with title “out degree for  115625564993990145546”"
            ],
            "image/png": "[encoded data removed]"
          },
          "metadata": {
            "image/png": {
              "width": 420,
              "height": 420
            }
          }
        },
        {
          "output_type": "display_data",
          "data": {
            "text/plain": [
              "Plot with title “in degree for  101373961279443806744”"
            ],
            "image/png": "[encoded data removed]"
          },
          "metadata": {
            "image/png": {
              "width": 420,
              "height": 420
            }
          }
        },
        {
          "output_type": "display_data",
          "data": {
            "text/plain": [
              "Plot with title “out degree for  101373961279443806744”"
            ],
            "image/png": "[encoded data removed]"
          },
          "metadata": {
            "image/png": {
              "width": 420,
              "height": 420
            }
          }
        }
      ]
    },
    {
      "cell_type": "code",
      "source": [
        "#q20 \n",
        "#https://igraph.org/r/doc/cluster_walktrap.html\n"
      ],
      "metadata": {
        "id": "_tujbdRtofH3"
      },
      "execution_count": null,
      "outputs": []
    },
    {
      "cell_type": "code",
      "source": [
        "# libraries are allowed. try to do without libraries?  "
      ],
      "metadata": {
        "id": "loVxN4HdooLG"
      },
      "execution_count": null,
      "outputs": []
    }
  ]
}